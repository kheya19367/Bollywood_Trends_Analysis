{
 "cells": [
  {
   "cell_type": "markdown",
   "id": "3c482d9d",
   "metadata": {},
   "source": [
    "IMPORTING LIBRARIES "
   ]
  },
  {
   "cell_type": "code",
   "execution_count": 1,
   "id": "86e54e16",
   "metadata": {},
   "outputs": [],
   "source": [
    "import pandas as pd"
   ]
  },
  {
   "cell_type": "markdown",
   "id": "de8ea9a5",
   "metadata": {},
   "source": [
    "INITIALISING PATH "
   ]
  },
  {
   "cell_type": "code",
   "execution_count": 2,
   "id": "3e3778b3",
   "metadata": {},
   "outputs": [],
   "source": [
    "year1 = \"2010-2019\"\n",
    "year2 = \"1950-2019\"\n",
    "base_path = \"archive/2010-2019/\"\n",
    "crew_path = \"archive/1950-2019/\""
   ]
  },
  {
   "cell_type": "markdown",
   "id": "e2ae2503",
   "metadata": {},
   "source": [
    "LOADING DATASETS "
   ]
  },
  {
   "cell_type": "code",
   "execution_count": 3,
   "id": "bf48ef2c",
   "metadata": {},
   "outputs": [],
   "source": [
    "#collecting all attributes\n",
    "df_main =pd.read_csv(base_path + \"bollywood_\"+year1+\".csv\")\n",
    "df_meta = pd.read_csv(base_path + \"bollywood_meta_\"+year1+\".csv\")\n",
    "df_ratings = pd.read_csv(base_path + \"bollywood_ratings_\"+year1+\".csv\")\n",
    "df_text = pd.read_csv(base_path + \"bollywood_text_\"+year1+\".csv\")\n",
    "#df_main.head()"
   ]
  },
  {
   "cell_type": "code",
   "execution_count": 10,
   "id": "f955d066",
   "metadata": {},
   "outputs": [
    {
     "data": {
      "text/plain": [
       "932"
      ]
     },
     "execution_count": 10,
     "metadata": {},
     "output_type": "execute_result"
    }
   ],
   "source": [
    "df_main['imdb_id'].nunique()"
   ]
  },
  {
   "cell_type": "markdown",
   "id": "92a806e7",
   "metadata": {},
   "source": [
    "INITAL DATA PROCESSING "
   ]
  },
  {
   "cell_type": "code",
   "execution_count": 8,
   "id": "b3648e8c",
   "metadata": {},
   "outputs": [],
   "source": [
    "#merging all the movie data based on the imdb ID\n",
    "\n",
    "df_movies = df_main.merge(df_meta,on = \"imdb_id\",how = \"outer\")\\\n",
    "                   .merge(df_ratings, on=\"imdb_id\", how=\"outer\") \\\n",
    "                   .merge(df_text, on=\"imdb_id\", how=\"outer\")\n",
    "\n",
    "#df_movies.head()"
   ]
  },
  {
   "cell_type": "code",
   "execution_count": 11,
   "id": "0a9d2143",
   "metadata": {},
   "outputs": [],
   "source": [
    "#cleaning up year of release \n",
    "df_movies['year_of_release'] = pd.to_numeric(df_movies['year_of_release'],errors='coerce')"
   ]
  },
  {
   "cell_type": "markdown",
   "id": "0f69d5ad",
   "metadata": {},
   "source": [
    "LOADING DATASET"
   ]
  },
  {
   "cell_type": "code",
   "execution_count": 12,
   "id": "c0045df6",
   "metadata": {},
   "outputs": [],
   "source": [
    "#Loading crew and writer info\n",
    "\n",
    "df_crew_links = pd.read_csv(crew_path + \"bollywood_crew_\"+ year2 +\".csv\")\n",
    "df_crew_data = pd.read_csv(crew_path + \"bollywood_crew_data_\"+ year2 +\".csv\")\n",
    "df_writer_data = pd.read_csv(crew_path + \"bollywood_writers_data_\"+ year2 +\".csv\")\n"
   ]
  },
  {
   "cell_type": "markdown",
   "id": "82547249",
   "metadata": {},
   "source": [
    "PROCESSING DATASETS TO ISOLATE INFORMATION"
   ]
  },
  {
   "cell_type": "code",
   "execution_count": 17,
   "id": "55d4f6ac",
   "metadata": {},
   "outputs": [],
   "source": [
    "#getting crew_ids which are seperated by '|'\n",
    "\n",
    "\n",
    "#cleaning the Nan entries for writers and directors \n",
    "df_crew_links['directors'] = df_crew_links['directors'].fillna('')\n",
    "df_crew_links['writers'] = df_crew_links['writers'].fillna('')\n",
    "#creating copy of director file\n",
    "df_directors = df_crew_links[['imdb_id', 'directors']].copy()  \n",
    "# assignig new column director id which contains the list of drector\n",
    "df_directors = df_directors.assign(director_id=df_directors['directors'].str.split('|')).explode('director_id') \n",
    "#dropping of column now that we have new column with split values\n",
    "df_directors = df_directors.drop(columns=['directors']) \n",
    "\n",
    "#renaming crew_id in crew_data file to natch column in df_directors\n",
    "#merge this to get actual names and attributes for each director \n",
    "df_directors = df_directors.merge(df_crew_data.rename(columns={'crew_id': 'director_id'}),\n",
    "                                  on='director_id', how='left', suffixes=('', '_director'))\n",
    "#repeat same excercise for writers \n",
    "df_writers = df_crew_links[['imdb_id', 'writers']].copy()\n",
    "df_writers = df_writers.assign(writer_id=df_writers['writers'].str.split('|')).explode('writer_id')\n",
    "df_writers = df_writers.drop(columns=['writers'])\n",
    "df_writers = df_writers.merge(df_writer_data.rename(columns={'crew_id': 'writer_id'}),\n",
    "                              on='writer_id', how='left', suffixes=('', '_writer'))\n"
   ]
  },
  {
   "cell_type": "code",
   "execution_count": 18,
   "id": "3fc73272",
   "metadata": {},
   "outputs": [],
   "source": [
    "#Grouping back director and writer info for each imdb_id\n",
    "\n",
    "#grouping the movies by the imdb_id \n",
    "#join all unique values using \"|\"\n",
    "df_directors_grouped = df_directors.groupby('imdb_id').agg({\n",
    "    'name': lambda x: '|'.join(x.dropna().astype(str)),\n",
    "    'born_year': lambda x: '|'.join(x.dropna().astype(str)),\n",
    "    'profession': lambda x: '|'.join(x.dropna().astype(str)),\n",
    "}).reset_index().rename(columns={\n",
    "    'name': 'directors_name',\n",
    "    'born_year': 'directors_born_year',\n",
    "    'profession': 'directors_profession'\n",
    "})\n",
    "\n",
    "df_writers_grouped = df_writers.groupby('imdb_id').agg({\n",
    "    'name': lambda x: '|'.join(x.dropna().astype(str)),\n",
    "    'born_year': lambda x: '|'.join(x.dropna().astype(str)),\n",
    "    'profession': lambda x: '|'.join(x.dropna().astype(str)),\n",
    "}).reset_index().rename(columns={\n",
    "    'name': 'writers_name',\n",
    "    'born_year': 'writers_born_year',\n",
    "    'profession': 'writers_profession'\n",
    "})\n",
    "\n",
    "\n",
    "#we now have 2 dataframes with one rwo per movie with info about writers and directors"
   ]
  },
  {
   "cell_type": "markdown",
   "id": "cbcd9cba",
   "metadata": {},
   "source": [
    "FINAL MERGE "
   ]
  },
  {
   "cell_type": "code",
   "execution_count": 19,
   "id": "bddf001f",
   "metadata": {},
   "outputs": [],
   "source": [
    "#MERGING ALL THE FILES TOGETHER TO GET ALL ATTRIBUTES IN ONE FILE\n",
    "\n",
    "df_full = df_movies.merge(df_directors_grouped, on=\"imdb_id\", how=\"left\") \\\n",
    "                   .merge(df_writers_grouped, on=\"imdb_id\", how=\"left\")\n"
   ]
  },
  {
   "cell_type": "markdown",
   "id": "fbb374cd",
   "metadata": {},
   "source": [
    "FINAL OUTPUT "
   ]
  },
  {
   "cell_type": "code",
   "execution_count": 20,
   "id": "6deb5939",
   "metadata": {},
   "outputs": [],
   "source": [
    "#Filtering movies to get movies released after 2010\n",
    "df_filtered = df_full[df_full['year_of_release']>2010]\n",
    "\n",
    "df_sample = df_filtered.sample(n=100,random_state=42)\n",
    "df_sample.to_csv(\"sampled_100_movies.csv\",index = False)"
   ]
  }
 ],
 "metadata": {
  "kernelspec": {
   "display_name": "Python 3",
   "language": "python",
   "name": "python3"
  },
  "language_info": {
   "codemirror_mode": {
    "name": "ipython",
    "version": 3
   },
   "file_extension": ".py",
   "mimetype": "text/x-python",
   "name": "python",
   "nbconvert_exporter": "python",
   "pygments_lexer": "ipython3",
   "version": "3.13.5"
  }
 },
 "nbformat": 4,
 "nbformat_minor": 5
}
