{
 "cells": [
  {
   "cell_type": "code",
   "execution_count": null,
   "metadata": {
    "colab": {
     "base_uri": "https://localhost:8080/"
    },
    "id": "ClRDZRNknecH",
    "outputId": "3d2f662a-fc5b-4e89-f125-301060853b91"
   },
   "outputs": [],
   "source": [
    "#required installations\n",
    "!pip install wikipedia\n",
    "!pip install wikipedia-api\n",
    "!pip install transformers accelerate bitsandbytes -q"
   ]
  },
  {
   "cell_type": "code",
   "execution_count": null,
   "metadata": {
    "id": "uQxpG-cBoK-z"
   },
   "outputs": [],
   "source": [
    "#setting up libraries\n",
    "import pandas as pd\n",
    "import requests\n",
    "from bs4 import BeautifulSoup\n",
    "import wikipedia\n",
    "import time\n",
    "import urllib.parse\n",
    "import re\n",
    "import os\n",
    "from google.colab import userdata\n",
    "import json\n",
    "import torch\n",
    "from transformers import pipeline\n",
    "import asyncio\n",
    "import aiohttp\n",
    "import wikipediaapi\n",
    "import seaborn as sns\n",
    "import matplotlib.pyplot as plt\n",
    "\n",
    "\n",
    "os.environ['TMDB_TOKEN'] = userdata.get(\"TMDB-READ-ACCESS-TOKEN\")\n",
    "os.environ['GROQ_API_KEY'] = userdata.get(\"GROQ_API_KEY\")\n",
    "os.environ['OMDB_API_KEY'] = userdata.get(\"OMDB_API_KEY\")"
   ]
  },
  {
   "cell_type": "code",
   "execution_count": null,
   "metadata": {
    "id": "AbkBO995o5vu"
   },
   "outputs": [],
   "source": [
    "wikipedia.set_lang(\"en\") #seting the for wikipedia language to english\n"
   ]
  },
  {
   "cell_type": "code",
   "execution_count": null,
   "metadata": {
    "id": "8gPhU0YOA-mh"
   },
   "outputs": [],
   "source": [
    "df_movie_sample = pd.read_csv(\"sampled_100_movies.csv\")"
   ]
  },
  {
   "cell_type": "markdown",
   "metadata": {
    "id": "1FvBP2qUnaFf"
   },
   "source": [
    "#Movie Material Collection"
   ]
  },
  {
   "cell_type": "code",
   "execution_count": null,
   "metadata": {
    "id": "PMvVn1EmBK2X"
   },
   "outputs": [],
   "source": [
    "movie_title = df_movie_sample['title_x']"
   ]
  },
  {
   "cell_type": "markdown",
   "metadata": {
    "id": "HuMpgl4PYHYD"
   },
   "source": [
    "Authenticate For TMDB"
   ]
  },
  {
   "cell_type": "code",
   "execution_count": null,
   "metadata": {
    "id": "chuHD7POYFJ5"
   },
   "outputs": [],
   "source": [
    "def authenticate():\n",
    "  url = \"https://api.themoviedb.org/3/authentication\"\n",
    "  headers = {\n",
    "    \"accept\": \"application/json\",\n",
    "    \"Authorization\": f\"Bearer {os.environ['TMDB_TOKEN']}\"\n",
    "  }\n",
    "  response = requests.get(url, headers=headers)\n",
    "  if json.loads(response.text)['success']: return\n",
    "  raise Exception(\"Authentication failed\")"
   ]
  },
  {
   "cell_type": "markdown",
   "metadata": {
    "id": "oK-TGXUUpj4o"
   },
   "source": [
    "Extracting Movie Synopsis From Wikipedia and TMDB"
   ]
  },
  {
   "cell_type": "code",
   "execution_count": null,
   "metadata": {
    "id": "xgXG5lvnCZ4v"
   },
   "outputs": [],
   "source": [
    "def extract_plot_from_wikipedia(wiki_url):\n",
    "    headers = {\n",
    "        'User-Agent': 'Mozilla/5.0'\n",
    "    }\n",
    "\n",
    "    try:\n",
    "        response = requests.get(wiki_url, headers=headers)\n",
    "        response.raise_for_status()\n",
    "        soup = BeautifulSoup(response.text, 'html.parser')\n",
    "\n",
    "        # More robust search for the 'Plot' section\n",
    "        plot_heading = soup.find(id='Plot')\n",
    "        if not plot_heading:\n",
    "          plot_heading = soup.find(id='Synopsis')\n",
    "\n",
    "        if not plot_heading:\n",
    "            #print(f\"No plot section found in: {wiki_url}\")\n",
    "            return None\n",
    "\n",
    "        # Get the text between this header and the next header\n",
    "        content = []\n",
    "        for sibling in plot_heading.parent.find_next_siblings():\n",
    "            if sibling.name == 'h2':\n",
    "                break\n",
    "            if sibling.name == 'p':\n",
    "                text = sibling.get_text(\" \", strip=True)\n",
    "                if text:\n",
    "                    content.append(text)\n",
    "\n",
    "        plot_text = \"\\n\\n\".join(content).strip()\n",
    "\n",
    "        return plot_text if plot_text else None\n",
    "\n",
    "    except Exception as e:\n",
    "        #print(f\"Error fetching from {wiki_url}: {e}\")\n",
    "        return None"
   ]
  },
  {
   "cell_type": "code",
   "execution_count": null,
   "metadata": {
    "id": "ANoV4kidC6IE"
   },
   "outputs": [],
   "source": [
    "def search_wikipedia_url(title):\n",
    "    base_url = \"https://en.wikipedia.org/wiki/\"\n",
    "    formatted_title = urllib.parse.quote(title.replace(\" \", \"_\"))\n",
    "    return base_url + formatted_title"
   ]
  },
  {
   "cell_type": "code",
   "execution_count": null,
   "metadata": {
    "id": "ZtOVKl_tSzif"
   },
   "outputs": [],
   "source": [
    "plots_data = []\n",
    "for index, row in df_movie_sample.iterrows():\n",
    "    title = row['title_x']\n",
    "    imdb_id = row['imdb_id']\n",
    "    wiki_link = row[\"wiki_link\"]\n",
    "    plot = extract_plot_from_wikipedia(wiki_link)\n",
    "    plots_data.append({'title_x': title, 'imdb_id': imdb_id, 'plot': plot})\n",
    "\n",
    "df_plots = pd.DataFrame(plots_data)\n",
    "#display(df_plots.head())"
   ]
  },
  {
   "cell_type": "markdown",
   "metadata": {
    "id": "sxLey_7YMyAD"
   },
   "source": [
    "Find Movie Plot from TMDB"
   ]
  },
  {
   "cell_type": "code",
   "execution_count": null,
   "metadata": {
    "id": "6OrW3EtuQh61"
   },
   "outputs": [],
   "source": [
    "def get_movie_overview(movie_name):\n",
    "  movie_id = search_movie(movie_name)\n",
    "  if movie_id is None:\n",
    "    return None\n",
    "  movie_data = get_movie_data(movie_id)\n",
    "  return movie_data['overview']"
   ]
  },
  {
   "cell_type": "markdown",
   "metadata": {
    "id": "lxLyzAIMoRhF"
   },
   "source": [
    "Find Movie Poster from TMDB"
   ]
  },
  {
   "cell_type": "code",
   "execution_count": null,
   "metadata": {
    "id": "kSOpPLYsoU5M"
   },
   "outputs": [],
   "source": [
    "def search_movie(movie_name):\n",
    "  response = requests.get(\n",
    "    url = f\"https://api.themoviedb.org/3/search/movie?query={movie_name}\",\n",
    "    headers = {\n",
    "        \"accept\": \"application/json\",\n",
    "        \"Authorization\": f\"Bearer {os.environ['TMDB_TOKEN']}\"\n",
    "    }\n",
    "  )\n",
    "  movie_data = json.loads(response.text)\n",
    "  movie_id = None\n",
    "  for result in movie_data['results']:\n",
    "    if result['title'] == movie_name:\n",
    "      movie_id = result['id']\n",
    "      return movie_id\n",
    "  return None\n",
    "\n",
    "\n",
    "def get_movie_data(movie_id):\n",
    "  response = requests.get(\n",
    "    url = f\"https://api.themoviedb.org/3/movie/{movie_id}?language=en-US\",\n",
    "    headers = {\n",
    "      \"accept\": \"application/json\",\n",
    "      \"Authorization\": f\"Bearer {os.environ['TMDB_TOKEN']}\"\n",
    "    }\n",
    "  )\n",
    "  movie_data = json.loads(response.text)\n",
    "  return movie_data\n",
    "\n",
    "\n",
    "def construct_poster_url(poster_path):\n",
    "  # getting the base_url and image size from the configurations API\n",
    "  response = requests.get(\n",
    "      url = \"https://api.themoviedb.org/3/configuration\",\n",
    "      headers = {\n",
    "        \"accept\": \"application/json\",\n",
    "        \"Authorization\": f\"Bearer {os.environ['TMDB_TOKEN']}\"\n",
    "      }\n",
    "  )\n",
    "\n",
    "  config_data = json.loads(response.text)\n",
    "  base_url = config_data['images']['base_url']\n",
    "  # selecting the 3rd smallest size\n",
    "  poster_size = config_data['images']['poster_sizes'][2]\n",
    "  return f\"{base_url}{poster_size}{poster_path}\"\n",
    "\n",
    "\n",
    "\n",
    "def get_movie_poster(movie_name):\n",
    "  movie_id = search_movie(movie_name)\n",
    "  if movie_id is None:\n",
    "    return None\n",
    "  movie_data = get_movie_data(movie_id)\n",
    "  poster_path = movie_data['poster_path']\n",
    "  poster_url = construct_poster_url(poster_path)\n",
    "  return poster_url\n"
   ]
  },
  {
   "cell_type": "markdown",
   "metadata": {
    "id": "WuGjvZ3qsEIc"
   },
   "source": [
    "COLLECTING ALL MOVIE SYNOPSIS"
   ]
  },
  {
   "cell_type": "code",
   "execution_count": null,
   "metadata": {
    "id": "79-eICB7pu7G"
   },
   "outputs": [],
   "source": [
    "def get_plot(row):\n",
    "    if pd.notna(row['plot']):\n",
    "        return row['plot']\n",
    "    else:\n",
    "        movie_title = row['title_x']\n",
    "        story = df_movie_sample.loc[df_movie_sample['title_x'] == movie_title, 'story'].iloc[0]\n",
    "        if pd.notna(story):\n",
    "            return story\n",
    "        else:\n",
    "            summary = df_movie_sample.loc[df_movie_sample['title_x'] == movie_title, 'summary'].iloc[0]\n",
    "            if pd.notna(summary):\n",
    "                return summary\n",
    "            else:\n",
    "                return get_movie_overview(movie_title)\n",
    "\n",
    "df_plots['plot'] = df_plots.apply(get_plot, axis=1)\n",
    "#display(df_plots)"
   ]
  },
  {
   "cell_type": "markdown",
   "metadata": {
    "id": "z-0xK810s-IO"
   },
   "source": [
    "Collecting all Movie Posters"
   ]
  },
  {
   "cell_type": "code",
   "execution_count": null,
   "metadata": {
    "id": "osyEr-iTfjn0"
   },
   "outputs": [],
   "source": [
    "movie_poster = df_movie_sample[['title_x']].copy()\n",
    "\n",
    "def get_poster(row):\n",
    "    if pd.notna(row['poster_path']) and row['poster_path'] != '':\n",
    "        return row['poster_path']\n",
    "    else:\n",
    "        return get_movie_poster(row['title_x'])\n",
    "\n",
    "movie_poster['movie_poster'] = df_movie_sample.apply(get_poster, axis=1)\n",
    "#display(movie_poster)"
   ]
  },
  {
   "cell_type": "code",
   "execution_count": null,
   "metadata": {
    "id": "FL5hU3RHnDkr"
   },
   "outputs": [],
   "source": [
    "# Create the \"data\" directory if it doesn't exist\n",
    "if not os.path.exists('data'):\n",
    "    os.makedirs('data')\n",
    "\n",
    "df_plot_poster = pd.merge(df_plots, movie_poster, on='title_x')\n",
    "df_plot_poster.to_csv('data/plot_poster_data.csv', index=False)\n",
    "#display(df_plot_poster.head())"
   ]
  },
  {
   "cell_type": "markdown",
   "metadata": {
    "id": "Dmr626pztCZJ"
   },
   "source": [
    "#DESCRIPTIVE METADATA"
   ]
  },
  {
   "cell_type": "markdown",
   "metadata": {
    "id": "YyhtZtXDtZlY"
   },
   "source": [
    "Scraping Gender of Director"
   ]
  },
  {
   "cell_type": "code",
   "execution_count": null,
   "metadata": {
    "id": "r1fx6q-ts_8I"
   },
   "outputs": [],
   "source": [
    "gender_cache = {}\n",
    "\n",
    "async def get_gender_async(session, name):\n",
    "    name = name.strip()\n",
    "\n",
    "    # Return from cache if already found\n",
    "    if name in gender_cache:\n",
    "        return gender_cache[name]\n",
    "\n",
    "    # --- Try Wikipedia first ---\n",
    "    try:\n",
    "        async with session.get(f\"https://en.wikipedia.org/api/rest_v1/page/summary/{name}\") as response:\n",
    "            if response.status == 200:\n",
    "                data = await response.json()\n",
    "                text = data.get(\"extract\", \"\").lower()\n",
    "                if \" she \" in text or \" her \" in text:\n",
    "                    gender_cache[name] = \"female\"\n",
    "                    return \"female\"\n",
    "                elif \" he \" in text or \" his \" in text:\n",
    "                    gender_cache[name] = \"male\"\n",
    "                    return \"male\"\n",
    "    except Exception as e:\n",
    "        print(f\"Error fetching from Wikipedia for {name}: {e}\")\n",
    "\n",
    "    # --- Fallback to genderize.io ---\n",
    "    first_name = name.split()[0]\n",
    "    try:\n",
    "        async with session.get(f\"https://api.genderize.io?name={first_name}\") as response:\n",
    "            if response.status == 200:\n",
    "                data = await response.json()\n",
    "                gender = data.get(\"gender\", \"unknown\")\n",
    "                gender_cache[name] = gender or \"unknown\"\n",
    "                return gender or \"unknown\"\n",
    "    except Exception as e:\n",
    "        print(f\"Error for {name}: {e}\")\n",
    "\n",
    "    # Default fallback\n",
    "    gender_cache[name] = \"unknown\"\n",
    "    return \"unknown\"\n",
    "\n",
    "async def annotate_director_genders_async(df, column_name='directors_name'):\n",
    "    # Get all unique director names\n",
    "    all_directors = set(d.strip() for directors in df[column_name] for d in directors.split('|'))\n",
    "\n",
    "    async with aiohttp.ClientSession() as session:\n",
    "        tasks = [get_gender_async(session, name) for name in all_directors]\n",
    "        await asyncio.gather(*tasks)\n",
    "\n",
    "    # Map back to DataFrame\n",
    "    def annotate_row(directors_str):\n",
    "        return '|'.join([f\"{d.strip()} ({gender_cache.get(d.strip(), 'unknown')})\" for d in directors_str.split('|')])\n",
    "\n",
    "    df['Director_Genders'] = df[column_name].apply(annotate_row)\n",
    "    return df"
   ]
  },
  {
   "cell_type": "markdown",
   "metadata": {
    "id": "paeUUwyStzDw"
   },
   "source": [
    "Adding Gender to Data Frame"
   ]
  },
  {
   "cell_type": "code",
   "execution_count": null,
   "metadata": {
    "id": "KdI8HD6Qtjjz"
   },
   "outputs": [],
   "source": [
    "df_movie_sample = await annotate_director_genders_async(df_movie_sample)\n",
    "#display(df_movie_sample.head())"
   ]
  },
  {
   "cell_type": "markdown",
   "metadata": {
    "id": "p0zbvwiduGv7"
   },
   "source": [
    "Summary Table and Plot for Director's Gender"
   ]
  },
  {
   "cell_type": "code",
   "execution_count": null,
   "metadata": {
    "colab": {
     "base_uri": "https://localhost:8080/",
     "height": 690
    },
    "id": "GqpXQaDuuMBv",
    "outputId": "5a12ce09-ffac-4952-e795-67f8bcc88a3c"
   },
   "outputs": [],
   "source": [
    "# Extract the gender from the 'Director_Genders' column\n",
    "df_movie_sample['gender'] = df_movie_sample['Director_Genders'].apply(lambda x: x.split('(')[-1][:-1] if '(' in x else 'unknown')\n",
    "\n",
    "# Count the occurrences of each gender\n",
    "gender_counts = df_movie_sample['gender'].value_counts().reset_index()\n",
    "gender_counts.columns = ['Gender', 'Count']\n",
    "\n",
    "# Display the summary table\n",
    "display(gender_counts)\n",
    "\n",
    "# Create the bar plot\n",
    "plt.figure(figsize=(8, 6))\n",
    "sns.barplot(x='Gender', y='Count', data=gender_counts)\n",
    "plt.title('Distribution of Director Genders')\n",
    "plt.xlabel('Gender')\n",
    "plt.ylabel('Count')\n",
    "plt.show()"
   ]
  },
  {
   "cell_type": "markdown",
   "metadata": {
    "id": "OLFoXwZ03Wb7"
   },
   "source": [
    "GET BOX OFFICE DATA"
   ]
  },
  {
   "cell_type": "markdown",
   "metadata": {
    "id": "el5UGOz-uijO"
   },
   "source": [
    "API Key"
   ]
  },
  {
   "cell_type": "code",
   "execution_count": null,
   "metadata": {
    "id": "gpBdjevR3UxJ"
   },
   "outputs": [],
   "source": [
    "OMDB_API_KEY = userdata.get(\"OMDB_API_KEY\")  # Replace with perosnal key for access  key"
   ]
  },
  {
   "cell_type": "code",
   "execution_count": null,
   "metadata": {
    "id": "eMalm5zv3m0n"
   },
   "outputs": [],
   "source": [
    "def get_gross_revenue_from_omdb(imdb_id):\n",
    "    try:\n",
    "        url = f\"http://www.omdbapi.com/?i={imdb_id}&apikey={OMDB_API_KEY}\"\n",
    "        response = requests.get(url)\n",
    "        data = response.json()\n",
    "        return data.get(\"BoxOffice\", None)\n",
    "    except Exception as e:\n",
    "        print(f\"Error for {imdb_id}: {e}\")\n",
    "        return None"
   ]
  },
  {
   "cell_type": "code",
   "execution_count": null,
   "metadata": {
    "id": "ghO8xnzC6ZN3"
   },
   "outputs": [],
   "source": [
    "box_office = pd.DataFrame()\n",
    "box_office[imdb_id] = df_movie_sample['imdb_id'].copy()\n",
    "box_office['box_office'] = df_movie_sample['imdb_id'].apply(get_gross_revenue_from_omdb)"
   ]
  },
  {
   "cell_type": "markdown",
   "metadata": {
    "id": "mbduW022u-bx"
   },
   "source": [
    "Summary Plot and Graog for Box Office Data"
   ]
  },
  {
   "cell_type": "code",
   "execution_count": null,
   "metadata": {
    "colab": {
     "base_uri": "https://localhost:8080/",
     "height": 847
    },
    "id": "nWCcpcpw7A4A",
    "outputId": "19490711-e174-4905-bfd4-6df9ceb79cc0"
   },
   "outputs": [],
   "source": [
    "# Clean the 'box_office' column\n",
    "box_office['box_office_numeric'] = box_office['box_office'].replace({'\\$': '', ',': ''}, regex=True)\n",
    "box_office['box_office_numeric'] = pd.to_numeric(box_office['box_office_numeric'], errors='coerce')\n",
    "\n",
    "# Create a summary table\n",
    "box_office_summary = box_office['box_office_numeric'].describe().to_frame()\n",
    "\n",
    "# Format the summary table\n",
    "box_office_summary['box_office_numeric'] = box_office_summary['box_office_numeric'].apply(lambda x: f\"${x:,.2f}\")\n",
    "\n",
    "\n",
    "display(box_office_summary)\n",
    "\n",
    "# Create a summary plot\n",
    "plt.figure(figsize=(10, 6))\n",
    "sns.histplot(box_office['box_office_numeric'].dropna(), bins=20, kde=True)\n",
    "plt.title('Distribution of Box Office Revenue')\n",
    "plt.xlabel('Box Office Revenue (in millions)')\n",
    "plt.ylabel('Frequency')\n",
    "plt.show()"
   ]
  },
  {
   "cell_type": "markdown",
   "metadata": {
    "id": "M9dqxgVRvnqa"
   },
   "source": [
    "#THEMATIC CODING"
   ]
  },
  {
   "cell_type": "code",
   "execution_count": null,
   "metadata": {
    "id": "5VpCfeOEvpW9"
   },
   "outputs": [],
   "source": [
    "def analyze_theme_sentiment_llm_batched(plots, candidate_labels, classifier):\n",
    "    results = []\n",
    "    for i, plot in enumerate(plots):\n",
    "        print(f\"Processing plot {i+1}/{len(plots)}...\")\n",
    "        try:\n",
    "            # The zero-shot pipeline handles truncation\n",
    "            response = classifier(plot, candidate_labels)\n",
    "            results.append(response['labels'][0])\n",
    "        except Exception as e:\n",
    "            print(f\"An error occurred while processing plot {i+1}: {e}\")\n",
    "            results.append(\"Error\")\n",
    "\n",
    "    return results"
   ]
  },
  {
   "cell_type": "markdown",
   "metadata": {
    "id": "RPZBEzQgv1p9"
   },
   "source": [
    "Using Pre-trained model from HuggingFace"
   ]
  },
  {
   "cell_type": "markdown",
   "metadata": {
    "id": "z7t762pC2DzO"
   },
   "source": [
    "Note : For time effeciency use GPU when running on Google Colab"
   ]
  },
  {
   "cell_type": "code",
   "execution_count": null,
   "metadata": {
    "colab": {
     "base_uri": "https://localhost:8080/",
     "height": 1000,
     "referenced_widgets": [
      "e73adfbcedcb401e9282b84f57e93cb3",
      "28c1afd936434915803bff97c77a2191",
      "ad56b410ebe941faacfcfdc19fcf46d4",
      "53f69887ea2f420db6442e9ad88ae740",
      "ee7c220f7b1f42b28f1bbadbe179076f",
      "c94d9ac92bcb4987980916defb9150b1",
      "38c1f59b26be46cdb25139f24357eed8",
      "1f1205570bd144dc9400eaeea7daf49c",
      "8cd3e5aa7aa34e8588f1c7023bc61e66",
      "e5b1fcbc5b11402196122b48d57f7092",
      "ceeb771576e84084a5b6139a54f6cfbf",
      "1b931478608c4595bf9e1a4db3daee46",
      "b279a2191ff1468389d0fabb383f5ee8",
      "6c1c54a464b64a91850e7e993da5e891",
      "f6aeb961ddb14e40ab768a245065c1e7",
      "eeffe304690b4d2ca83a94c8723e6271",
      "980cd8274d9b4d99a7504db064c9736e",
      "2079c2fe50ae42a3ad77db8ec8f638b5",
      "b8b92de6e57d404196d79bcd7a6646c8",
      "7e1008a1a7f34c4696885b60c35a0392",
      "0d7370c19aea40e09f68989e609ddb5b",
      "d5010fc6c23d439c847e127c104d0c6a",
      "480d06b2583b43b392eba7bb0c991b4c",
      "f5e98de57bd64cd3a0bb7bb7ed28981f",
      "a3770b0200fa4f9ead687c8906e7c5c6",
      "057ebd93306b43a8922aa8966ddba2e4",
      "76b7008d5a974cbdb24c614db4a46015",
      "9a24a9391e654c82bf28b8447184b3ae",
      "64c6eea3c51a42bb926d717a3374d8ba",
      "53309fa17b324183922331824099bebd",
      "e4a93d79feee48f9951c1c73d972155b",
      "5cc6ccc47f634e769b4b0167d17e904a",
      "e7fed1f66f6b4af3a0f892d359d94584",
      "621c419d756343c6bc74b01645a198e1",
      "411e166733ba4ca6a6bf848be0d1e7f0",
      "7ffffce483e546a8a131955dfb38e4cc",
      "f20d1f24b5954b57806518397e078c12",
      "44da5150a4a543b0841422b4b290595d",
      "49bfe73d6f5343239f672198a4a47abe",
      "5a30188995654b10918f0c927b422ca1",
      "b97d8a8272244ce6ad159a1daec978f1",
      "d81a45bc588944b9bd4b748b2f017847",
      "43fe50ea5d454198831c8ed59e9c54ff",
      "36e0417bd7534f1bb40df6756796040c",
      "f43b387ecfaa4badb31dd7fa04345cbe",
      "9d90d783d0fd447ea84e1afeb7360fda",
      "54385ff47f7d4ac9b55a1e775e9d6609",
      "594f32807a924521a9ab632f37f5f310",
      "55bf64aeeb29427d802c9d57787d2b3d",
      "e9d32aa3fbd24d5d926252c13d75e5a4",
      "e655abb18a124ef3ac2e8fff8bd8b4fe",
      "4a5f1c31765d47618ceca3bc40690959",
      "dc33de44bd4845e3bf6102096d534ef3",
      "30f0d1d2081d465f87c62fe9e6596377",
      "cd5ac0cbf28047f48704aa2a5ba69e6d",
      "6c5f575c32674a6c86293bed2cda0e34",
      "bef99df98544406594f4ac0f6069d989",
      "91329d7f617244a788d321169cd0b55a",
      "a0c31cdd542f4f73af62698028a55c9d",
      "8e0978d5ad9a4ff3987eac65b875693b",
      "a24f3b56fd02480fac597886b121b31f",
      "b31bf9c38d2d4c8f899434b383a2f2ae",
      "fb2af53a06a6483aa385b97d428d053c",
      "dde6348ba03748ac8833c33c95a4647f",
      "9ce66b00ca484822853524f3441d3e90",
      "08d155c71ed24e1a8744aa9d536ff4ac",
      "3a7ab7a6cdb2442b8e41f55250760ad9",
      "a98046bcfc26492fa94669a4f6303ce3",
      "96650d85363d4d5f8c294e4ffbe8b1f8",
      "a672d4350f0542ad84590433cec75ffe",
      "2baabf47a71c47939813f1e08eb4ac1c",
      "beaad516b3194d42808c75f247da19a7",
      "91962657d2a5459fba19b93f3e358d07",
      "bdfecb48e69f4ed9b21cd84b94e52502",
      "a0f90944254849db86985f1f243aab11",
      "01233d5b05a3476f80ed8115e9c9d6c8",
      "aa8b885c48e34601b864f116b9e7a859"
     ]
    },
    "id": "DgbxPE7sv0TZ",
    "outputId": "0fedb6ce-8fac-4ded-cdd0-8f01b5923f59"
   },
   "outputs": [],
   "source": [
    "classifier = pipeline(\"zero-shot-classification\", model=\"cross-encoder/nli-distilroberta-base\")\n",
    "\n",
    "axes = {\n",
    "    'hindu_muslim': ['Secular','Exclusionary'],\n",
    "    'feminist_misogynistic': ['Feminist', 'Misogynistic'],\n",
    "    'nationalism': ['Tolerant', 'Jingoistic'],\n",
    "    'caste_dynamics': ['Egalitarian','casteist']\n",
    "}\n",
    "\n",
    "for axis_name, labels in axes.items():\n",
    "    df_plots[f\"{axis_name}_llm_label\"] = analyze_theme_sentiment_llm_batched(df_plots['plot'].tolist(), labels, classifier)\n",
    "\n",
    "del classifier\n",
    "torch.cuda.empty_cache()"
   ]
  },
  {
   "cell_type": "code",
   "execution_count": null,
   "metadata": {
    "id": "fODuyiMI1c4M"
   },
   "outputs": [],
   "source": [
    "df_plots = pd.merge(df_plots, df_movie_sample[['imdb_id', 'year_of_release']], on='imdb_id', how='left')\n",
    "#display(df_plots.head())"
   ]
  },
  {
   "cell_type": "code",
   "execution_count": null,
   "metadata": {
    "id": "OWIpAb0M1z4U"
   },
   "outputs": [],
   "source": [
    "df_plots.to_csv('data/classified_data.csv')"
   ]
  }
 ],
 "metadata": {
  "accelerator": "TPU",
  "colab": {
   "gpuType": "V28",
   "provenance": []
  },
  "kernelspec": {
   "display_name": "Python 3",
   "name": "python3"
  },
  "language_info": {
   "name": "python"
  }
 },
 "nbformat": 4,
 "nbformat_minor": 0
}
